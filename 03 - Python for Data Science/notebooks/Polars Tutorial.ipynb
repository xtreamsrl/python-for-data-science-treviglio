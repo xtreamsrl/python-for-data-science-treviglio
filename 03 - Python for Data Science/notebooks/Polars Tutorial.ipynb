{
 "cells": [
  {
   "cell_type": "markdown",
   "id": "0",
   "metadata": {},
   "source": [
    "# Polars Tutorial\n",
    "In this notebook, we'll walk through some of the most useful features of Polars.\n",
    "\n",
    "To do so, we'll use a [dataset by Terna](https://www.terna.it/en/electric-system/transparency-report/actual-generation), describing the total generation in Italy in the last year.\n",
    "\n",
    "## Setup"
   ]
  },
  {
   "cell_type": "code",
   "execution_count": null,
   "id": "1",
   "metadata": {},
   "outputs": [],
   "source": [
    "from pathlib import Path\n",
    "\n",
    "import polars as pl\n",
    "import plotly.express as px\n",
    "import plotly.io as pio\n",
    "\n",
    "pio.templates.default = \"plotly_white\""
   ]
  },
  {
   "cell_type": "code",
   "execution_count": null,
   "id": "2",
   "metadata": {},
   "outputs": [],
   "source": [
    "data_path = Path(\"..\") / \"data\" / \"power_generation.xlsx\"\n",
    "df = pl.read_excel(data_path)\n",
    "df.head()"
   ]
  },
  {
   "cell_type": "markdown",
   "id": "3",
   "metadata": {},
   "source": [
    "# Anatomy of a Polars DataFrame\n",
    "A Polars DataFrame is composed of several key elements.\n",
    "\n",
    "Columns form the backbone of a DataFrame. Each column represents a single variable and contains data of a specific type. Polars uses Arrow arrays for efficient memory usage and fast operations.\n",
    "\n",
    "Rows in Polars are conceptual rather than physical objects. They represent individual records but are accessed through column operations.\n",
    "\n",
    "Data types (dtypes) in Polars include common types like integers, floats, strings, and booleans, as well as specialized types for dates, times, and categorical data. The dtype determines how data is stored and manipulated.\n",
    "\n",
    "Unlike some other libraries, Polars doesn't use a separate index. Instead, the position of data in columns serves as an implicit index.\n",
    "\n",
    "The schema defines the structure of the DataFrame, specifying column names and their data types. It's crucial for understanding the layout of your data.\n",
    "\n",
    "Polars uses a chunked data structure, allowing for efficient parallel processing and lazy evaluation. This is key to its performance with large datasets.\n",
    "\n",
    "Expressions are a powerful feature in Polars for data manipulation. They allow you to define complex operations on columns efficiently.\n",
    "\n",
    "To work with Polars effectively, it's important to understand how these components interact. For example, you might select columns, apply expressions to transform data, or use the schema to understand your dataset's structure. The dtype of a column influences what operations you can perform, while the chunked structure enables Polars to process large datasets efficiently."
   ]
  },
  {
   "cell_type": "code",
   "execution_count": null,
   "id": "4",
   "metadata": {},
   "outputs": [],
   "source": [
    "print(df.describe())"
   ]
  },
  {
   "cell_type": "code",
   "execution_count": null,
   "id": "5",
   "metadata": {},
   "outputs": [],
   "source": [
    "df.dtypes"
   ]
  },
  {
   "cell_type": "code",
   "execution_count": null,
   "id": "6",
   "metadata": {},
   "outputs": [],
   "source": [
    "df.columns"
   ]
  },
  {
   "cell_type": "code",
   "execution_count": null,
   "id": "7",
   "metadata": {},
   "outputs": [],
   "source": [
    "df.schema"
   ]
  },
  {
   "cell_type": "markdown",
   "id": "8",
   "metadata": {},
   "source": [
    "# Basic Manipulation\n",
    "We'll now demonstrate some data manipulation using Polars. For the full reference, please refer to the [official documentation](https://docs.pola.rs/)"
   ]
  },
  {
   "cell_type": "code",
   "execution_count": null,
   "id": "9",
   "metadata": {},
   "outputs": [],
   "source": [
    "df.select([\"Date\", \"Actual Generation (GWh)\", \"Primary Source\"])"
   ]
  },
  {
   "cell_type": "code",
   "execution_count": null,
   "id": "10",
   "metadata": {},
   "outputs": [],
   "source": [
    "df.rename({\"Actual Generation (GWh)\": \"Generation\", \"Primary Source\": \"Source\"})"
   ]
  },
  {
   "cell_type": "code",
   "execution_count": null,
   "id": "11",
   "metadata": {},
   "outputs": [],
   "source": [
    "df.with_columns((pl.col(\"Actual Generation (GWh)\") * 1000).alias(\"Generation_MWh\"))"
   ]
  },
  {
   "cell_type": "markdown",
   "id": "12",
   "metadata": {},
   "source": [
    "# Filtering and Sorting"
   ]
  },
  {
   "cell_type": "code",
   "execution_count": null,
   "id": "13",
   "metadata": {},
   "outputs": [],
   "source": [
    "df.filter(pl.col(\"Primary Source\") == \"Thermal\")"
   ]
  },
  {
   "cell_type": "code",
   "execution_count": null,
   "id": "14",
   "metadata": {},
   "outputs": [],
   "source": [
    "df.filter(pl.col(\"Actual Generation (GWh)\") > 10)"
   ]
  },
  {
   "cell_type": "code",
   "execution_count": null,
   "id": "15",
   "metadata": {},
   "outputs": [],
   "source": [
    "df.sort(\"Actual Generation (GWh)\", descending=True)"
   ]
  },
  {
   "cell_type": "markdown",
   "id": "16",
   "metadata": {},
   "source": [
    "# Grouping and Aggregations\n"
   ]
  },
  {
   "cell_type": "code",
   "execution_count": null,
   "id": "17",
   "metadata": {},
   "outputs": [],
   "source": [
    "df.group_by(\"Primary Source\").agg(\n",
    "    pl.col(\"Actual Generation (GWh)\").sum().alias(\"Total_Generation\"),\n",
    "    pl.col(\"Actual Generation (GWh)\").mean().alias(\"Avg_Generation\"),\n",
    "    pl.col(\"Actual Generation (GWh)\").count().alias(\"Count\"),\n",
    ")"
   ]
  },
  {
   "cell_type": "code",
   "execution_count": null,
   "id": "18",
   "metadata": {},
   "outputs": [],
   "source": [
    "df.group_by(\"Primary Source\").agg(\n",
    "    pl.col(\"Actual Generation (GWh)\").max().alias(\"Max Gen\")\n",
    ")"
   ]
  },
  {
   "cell_type": "markdown",
   "id": "19",
   "metadata": {},
   "source": [
    "# Time series operations\n",
    "Many datasets in energy are time series, and our dataset is no exception. \n",
    "\n",
    "Therefore, we'll show some operations that can be performed on dates and time series."
   ]
  },
  {
   "cell_type": "code",
   "execution_count": null,
   "id": "20",
   "metadata": {},
   "outputs": [],
   "source": [
    "df.with_columns(pl.col(\"Date\").dt.hour().alias(\"Hour\"))"
   ]
  },
  {
   "cell_type": "code",
   "execution_count": null,
   "id": "21",
   "metadata": {},
   "outputs": [],
   "source": [
    "generation_df = (\n",
    "    df.with_columns(pl.col(\"Date\").dt.hour().alias(\"Hour\"))\n",
    "    .group_by(\"Hour\")\n",
    "    .agg(pl.col(\"Actual Generation (GWh)\").mean().alias(\"Hourly Generation\"))\n",
    "    .sort(\"Hour\")\n",
    ")"
   ]
  },
  {
   "cell_type": "code",
   "execution_count": null,
   "id": "22",
   "metadata": {},
   "outputs": [],
   "source": [
    "px.line(generation_df, x=\"Hour\", y=\"Hourly Generation\")"
   ]
  },
  {
   "cell_type": "code",
   "execution_count": null,
   "id": "23",
   "metadata": {},
   "outputs": [],
   "source": [
    "generation_by_hour_source_df = (\n",
    "    df.with_columns(pl.col(\"Date\").dt.hour().alias(\"Hour\"))\n",
    "    .with_columns(\n",
    "        pl.col(\"Actual Generation (GWh)\")\n",
    "        .mean()\n",
    "        .over(\"Hour\", \"Primary Source\")\n",
    "        .alias(\"Hourly Generation\")\n",
    "    )\n",
    "    .select(\"Hour\", \"Primary Source\", \"Hourly Generation\")\n",
    "    .unique()\n",
    "    .sort(\"Hour\")\n",
    ")"
   ]
  },
  {
   "cell_type": "code",
   "execution_count": null,
   "id": "24",
   "metadata": {},
   "outputs": [],
   "source": [
    "px.area(\n",
    "    generation_by_hour_source_df,\n",
    "    x=\"Hour\",\n",
    "    y=\"Hourly Generation\",\n",
    "    color=\"Primary Source\",\n",
    ")"
   ]
  },
  {
   "cell_type": "markdown",
   "id": "25",
   "metadata": {},
   "source": [
    "# Advanced Data Manipulation\n",
    "We'll now showcase some operations such as pivot and rolling means."
   ]
  },
  {
   "cell_type": "code",
   "execution_count": null,
   "id": "26",
   "metadata": {},
   "outputs": [],
   "source": [
    "df.pivot(\n",
    "    values=\"Actual Generation (GWh)\",\n",
    "    index=\"Date\",\n",
    "    on=\"Primary Source\",\n",
    "    aggregate_function=\"mean\",\n",
    ")"
   ]
  },
  {
   "cell_type": "code",
   "execution_count": null,
   "id": "27",
   "metadata": {},
   "outputs": [],
   "source": [
    "(\n",
    "    df.select(pl.col(\"Date\"), pl.col(\"Actual Generation (GWh)\").sum().over(\"Date\"))\n",
    "    .unique()\n",
    "    .sort(\"Date\")\n",
    "    .select(pl.col(\"Date\"), pl.col(\"Actual Generation (GWh)\").rolling_mean(24))\n",
    ")"
   ]
  },
  {
   "cell_type": "markdown",
   "id": "28",
   "metadata": {},
   "source": [
    "# Exporting Data"
   ]
  },
  {
   "cell_type": "code",
   "execution_count": null,
   "id": "29",
   "metadata": {},
   "outputs": [],
   "source": [
    "output_df = (\n",
    "    df.with_columns(date=pl.col(\"Date\").dt.date())\n",
    "    .group_by(\"date\", \"Primary Source\")\n",
    "    .agg(pl.col(\"Actual Generation (GWh)\").sum().alias(\"generation_gwh\"))\n",
    "    .select(\n",
    "        pl.col(\"date\"),\n",
    "        pl.col(\"generation_gwh\"),\n",
    "        pl.col(\"Primary Source\").alias(\"source\"),\n",
    "    )\n",
    "    .sort(\"date\", \"source\")\n",
    ")"
   ]
  },
  {
   "cell_type": "code",
   "execution_count": null,
   "id": "30",
   "metadata": {},
   "outputs": [],
   "source": [
    "output_df.write_csv(\"output.csv\")\n",
    "output_df.write_excel(\"output.xlsx\")\n",
    "output_df.write_parquet(\"output.parquet\")"
   ]
  }
 ],
 "metadata": {
  "kernelspec": {
   "display_name": "Python 3 (ipykernel)",
   "language": "python",
   "name": "python3"
  },
  "language_info": {
   "codemirror_mode": {
    "name": "ipython",
    "version": 3
   },
   "file_extension": ".py",
   "mimetype": "text/x-python",
   "name": "python",
   "nbconvert_exporter": "python",
   "pygments_lexer": "ipython3",
   "version": "3.12.6"
  }
 },
 "nbformat": 4,
 "nbformat_minor": 5
}
